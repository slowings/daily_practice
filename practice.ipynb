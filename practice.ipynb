{
 "cells": [
  {
   "cell_type": "markdown",
   "metadata": {
    "id": "JTug-_o70eFd"
   },
   "source": [
    "# Practice\n",
    "I'll be practicing some basic skills in this document, as a way to maintain my fluency with logical thinking and Python in general.  As a woman new to coding, I'm hoping this review will help me feel more confident in my upcoming technical interviews.\n"
   ]
  },
  {
   "cell_type": "code",
   "execution_count": 1,
   "metadata": {
    "id": "LPhme_cJ3Aw0"
   },
   "outputs": [],
   "source": [
    "# Import statements\n",
    "import pandas as pd\n",
    "import numpy as np\n",
    "from numpy import random\n",
    "from numpy.random import choice\n",
    "from collections import Counter as count\n",
    "import sqlite3\n",
    "import math"
   ]
  },
  {
   "cell_type": "markdown",
   "metadata": {},
   "source": [
    "### Day 1:\n",
    "\n",
    "Return all pairs that sum to our target"
   ]
  },
  {
   "cell_type": "code",
   "execution_count": null,
   "metadata": {
    "id": "easG28p93AZa"
   },
   "outputs": [],
   "source": [
    "def twoSum(nums, target):\n",
    "  nines=[]\n",
    "  for n in nums:\n",
    "    for self in nums:\n",
    "      if self+n==target:\n",
    "        nines.append(self)\n",
    "        nines.append(n)\n",
    "  return nines\n",
    "\n"
   ]
  },
  {
   "cell_type": "code",
   "execution_count": null,
   "metadata": {
    "colab": {
     "base_uri": "https://localhost:8080/"
    },
    "id": "2X6fMfAj3A_L",
    "outputId": "578d1818-a3a2-4256-dcd7-0de126cd2ee0"
   },
   "outputs": [
    {
     "data": {
      "text/plain": [
       "[7, 2, 2, 7, 0, 9, 9, 0]"
      ]
     },
     "execution_count": 43,
     "metadata": {},
     "output_type": "execute_result"
    }
   ],
   "source": [
    "nums = [2,7,11,15,1,6,9,0]\n",
    "target = 9\n",
    "\n",
    "twoSum(nums, target)"
   ]
  },
  {
   "cell_type": "markdown",
   "metadata": {
    "id": "RwodKjJZskvp"
   },
   "source": [
    "### Day 2:\n",
    "Given a year, return the century it is in. The first century spans from the year 1 up to and including the year 100, the second - from the year 101 up to and including the year 200, etc."
   ]
  },
  {
   "cell_type": "code",
   "execution_count": null,
   "metadata": {
    "colab": {
     "base_uri": "https://localhost:8080/"
    },
    "id": "mlgLto_eslzH",
    "outputId": "84fd420f-a3a2-41c1-97e9-7acd0f9e8937"
   },
   "outputs": [
    {
     "name": "stdout",
     "output_type": "stream",
     "text": [
      "The year 2023 is in the 21 century.\n"
     ]
    }
   ],
   "source": [
    "# Calculate the century by dividing the year by 100 and rounding up\n",
    "\n",
    "def find_century(year):\n",
    "    century = (year - 1) // 100 + 1\n",
    "    return century\n",
    "\n",
    "# Example usage\n",
    "year = 2023\n",
    "result = find_century(year)\n",
    "print(f\"The year {year} is in the {result} century.\")\n"
   ]
  },
  {
   "cell_type": "markdown",
   "metadata": {
    "id": "-NPsD98v37lS"
   },
   "source": [
    "### Day 3\n",
    "Given the string, check if it is a palindrome."
   ]
  },
  {
   "cell_type": "code",
   "execution_count": null,
   "metadata": {
    "colab": {
     "base_uri": "https://localhost:8080/"
    },
    "id": "zafgPGNR3u_0",
    "outputId": "fa06e6cc-c37f-486f-cd8f-8c0b9df1d452"
   },
   "outputs": [
    {
     "name": "stdout",
     "output_type": "stream",
     "text": [
      "True\n"
     ]
    }
   ],
   "source": [
    "def solution(inputString):\n",
    "  if inputString == inputString[::-1]:\n",
    "    return print('True')\n",
    "  else:\n",
    "    return print('False')\n",
    "\n",
    "# Example usage\n",
    "pali = \"aabaa\"\n",
    "result = solution(pali)\n"
   ]
  },
  {
   "cell_type": "markdown",
   "metadata": {
    "id": "nMwc6i3hELRX"
   },
   "source": [
    "## Day 3\n",
    "\n",
    "How would you simulate a loaded die, where 6 comes up 50% of the time and 1-5 comes up 10%?\n",
    "\n",
    "In essence, this question is asking us to show:\n",
    "*Probability = element_weight/ sum of all weights*\n",
    "\n",
    "There are ways to do this manually, as below with Numpy weights, but I'd like to write a function that shows the probability for a list of objects, where one of those objects will come up 50% of the time. so that we can operate with more complex numbers, rather than just showing 6= 0.5, 5= 0.1, 4= 0.1, 3=0.1, 2= 0.1, 1= .1\n",
    "\n"
   ]
  },
  {
   "cell_type": "code",
   "execution_count": null,
   "metadata": {
    "colab": {
     "base_uri": "https://localhost:8080/"
    },
    "id": "5aJksytaQA1w",
    "outputId": "90d2d9d2-94f7-4512-fc23-3e57c5c03558"
   },
   "outputs": [
    {
     "name": "stdout",
     "output_type": "stream",
     "text": [
      "Prob of 6: 0.507\n",
      "Prob of 5: 0.092\n"
     ]
    }
   ],
   "source": [
    "elements = (1,2,3,4,5,6)\n",
    "weights = [0.1, 0.1, 0.1, 0.1, 0.1, 0.5]\n",
    "\n",
    "outcomes = []\n",
    "for i in range(1000):\n",
    "    outcomes.append(choice(elements,\n",
    "                          p=weights,\n",
    "                          replace=True))\n",
    "\n",
    "\n",
    "print(\"Prob of 6:\", outcomes.count(6)/len(outcomes))\n",
    "print(\"Prob of 5:\", outcomes.count(5)/len(outcomes))"
   ]
  },
  {
   "cell_type": "markdown",
   "metadata": {
    "id": "kiz60alJj7rS"
   },
   "source": [
    "## Day 4\n",
    "\n",
    "Given two sorted arrays nums1 and nums2 of size m and n respectively, return the median of the two sorted arrays.\n"
   ]
  },
  {
   "cell_type": "code",
   "execution_count": 2,
   "metadata": {
    "colab": {
     "base_uri": "https://localhost:8080/"
    },
    "id": "lGKhw24kBhSr",
    "outputId": "31ea5c34-10da-41ba-beea-9cf3c08ab61a"
   },
   "outputs": [
    {
     "name": "stdout",
     "output_type": "stream",
     "text": [
      "2\n"
     ]
    }
   ],
   "source": [
    "def findMedianSortedArrays(nums1, nums2):\n",
    "    # Merge the two sorted arrays\n",
    "    merged = sorted(nums1 + nums2)\n",
    "\n",
    "    # Find the length of the merged array\n",
    "    total_length = len(merged)\n",
    "\n",
    "    # Check if the total length is odd or even\n",
    "    if total_length % 2 == 1:\n",
    "        # If odd, return the middle element\n",
    "        return merged[total_length // 2]\n",
    "    else:\n",
    "        # If even, return the average of the two middle elements\n",
    "        mid1 = total_length // 2\n",
    "        mid2 = mid1 - 1\n",
    "        return (merged[mid1] + merged[mid2]) / 2\n",
    "\n",
    "# Example usage:\n",
    "nums1 = [1, 3]\n",
    "nums2 = [2]\n",
    "result = findMedianSortedArrays(nums1, nums2)\n",
    "print(result)\n"
   ]
  },
  {
   "cell_type": "markdown",
   "metadata": {
    "id": "sNnsshK5m4CL"
   },
   "source": [
    "## Day 5\n",
    "What's the probability that two people in a room have the same birthday?\n",
    "\n",
    "Most solutions to this problem involve simulating a bunch a birthdays.  I'd like to see if I can set up function to calcuclate the probability for any number of people first, and then add on a simulator to compare results.\n",
    "\n"
   ]
  },
  {
   "cell_type": "code",
   "execution_count": 3,
   "metadata": {
    "id": "YlBgnndD20CW"
   },
   "outputs": [],
   "source": [
    " def birthday_match(n_people):\n",
    "    factorial=(n_people*(n_people-1))/2\n",
    "    prob=(364/365)**factorial\n",
    "    return prob\n"
   ]
  },
  {
   "cell_type": "code",
   "execution_count": 4,
   "metadata": {
    "id": "cJcXm1YG0dN0"
   },
   "outputs": [
    {
     "data": {
      "text/plain": [
       "0.4995228459634194"
      ]
     },
     "execution_count": 4,
     "metadata": {},
     "output_type": "execute_result"
    }
   ],
   "source": [
    "# should return 4995\n",
    "birthday_match(23)"
   ]
  },
  {
   "cell_type": "markdown",
   "metadata": {
    "id": "Np3SNFAJ0dyG"
   },
   "source": [
    "## Day 6 \n",
    "Although I like the logic challanges, this week I'll focus on real world questions:\n",
    "\n",
    "You’re a junior developer in an online fashion store. The sales department provides you with sales data and wants to determine which items in a particular category were the most profitable last month, so they can prioritize stocking them.\n",
    "\n",
    "Given that each sale is represented as a dictionary with keys: 'item_name', 'category', 'price', 'cost', and 'units_sold', you are tasked with finding the item name with the highest profit (where profit is calculated as (price - cost) * units_sold) in the 'Dresses' category."
   ]
  },
  {
   "cell_type": "code",
   "execution_count": 1,
   "metadata": {},
   "outputs": [],
   "source": [
    "sales_data = [\n",
    "    {\"item_name\": \"Floral Dress\", \"category\": \"Dresses\", \"price\": 50, \"cost\": 20, \"units_sold\": 150},\n",
    "    {\"item_name\": \"Leather Jacket\", \"category\": \"Jackets\", \"price\": 120, \"cost\": 60, \"units_sold\": 80},\n",
    "    {\"item_name\": \"Evening Dress\", \"category\": \"Dresses\", \"price\": 80, \"cost\": 40, \"units_sold\": 100},\n",
    "    {\"item_name\": \"Casual Shoes\", \"category\": \"Shoes\", \"price\": 60, \"cost\": 30, \"units_sold\": 200}\n",
    "]"
   ]
  },
  {
   "cell_type": "code",
   "execution_count": 2,
   "metadata": {},
   "outputs": [
    {
     "name": "stdout",
     "output_type": "stream",
     "text": [
      "Floral Dress\n"
     ]
    }
   ],
   "source": [
    "profits = []\n",
    "for sale in sales_data:\n",
    "    if sale['category'] == 'Dresses':\n",
    "        profit = (sale['price'] - sale['cost']) * sale['units_sold']\n",
    "        profits.append((sale['item_name'], profit))\n",
    "most_profitable = max(profits, key=lambda x: x[1])\n",
    "print(most_profitable[0])"
   ]
  },
  {
   "cell_type": "markdown",
   "metadata": {},
   "source": [
    "### Day 7\n",
    "\n",
    "*How would you find the number that appears in a list more than once?*\n",
    "There are several ways to approach this problem.  We could use the built in numpy unique function to convert our list to an array and \n",
    "\n",
    "As a set can only contain unique values, we could utilize that to keep track of unique values and commit any duplicates to list. "
   ]
  },
  {
   "cell_type": "code",
   "execution_count": 2,
   "metadata": {},
   "outputs": [],
   "source": [
    "test_numbers= (1,2,3,4,5,6,7,8,9,2,1)"
   ]
  },
  {
   "cell_type": "code",
   "execution_count": 3,
   "metadata": {},
   "outputs": [],
   "source": [
    "def find_repeat(numbs):\n",
    "    x= np.array(numbs)\n",
    "    unq, count = np.unique(x, return_counts=True)\n",
    "    num= np.unique(count)\n",
    "    return num\n",
    "        "
   ]
  },
  {
   "cell_type": "code",
   "execution_count": 4,
   "metadata": {},
   "outputs": [
    {
     "data": {
      "text/plain": [
       "array([1, 2])"
      ]
     },
     "execution_count": 4,
     "metadata": {},
     "output_type": "execute_result"
    }
   ],
   "source": [
    "find_repeat(test_numbers)"
   ]
  },
  {
   "cell_type": "code",
   "execution_count": 7,
   "metadata": {},
   "outputs": [
    {
     "data": {
      "text/plain": [
       "[1, 2, 2, 1]"
      ]
     },
     "execution_count": 7,
     "metadata": {},
     "output_type": "execute_result"
    }
   ],
   "source": [
    "repeats=[x for x in test_numbers if test_numbers.count(x) >= 2]\n",
    "repeats"
   ]
  },
  {
   "cell_type": "markdown",
   "metadata": {},
   "source": [
    "### Day 8\n",
    "\n",
    "Count the number of capital letters in a file. \n",
    "\n",
    "Assume you have an open file handle object, such as:\n",
    "\n",
    "```\n",
    "with open(SOME_LARGE_FILE) as fh:\n",
    "   count =  # your code here\n",
    "```\n"
   ]
  },
  {
   "cell_type": "code",
   "execution_count": 10,
   "metadata": {},
   "outputs": [],
   "source": [
    "message= (\"This is a small sample. We are trying to test.  Let's see if it works\")\n",
    "\n",
    "def capital_counter(corpus):\n",
    "    for letter in corpus:\n",
    "        count= sum(1 for c in message if c.isupper())\n",
    "    return count"
   ]
  },
  {
   "cell_type": "code",
   "execution_count": 11,
   "metadata": {},
   "outputs": [
    {
     "data": {
      "text/plain": [
       "3"
      ]
     },
     "execution_count": 11,
     "metadata": {},
     "output_type": "execute_result"
    }
   ],
   "source": [
    "capital_counter(message)"
   ]
  },
  {
   "cell_type": "markdown",
   "metadata": {},
   "source": [
    "### Day 9\n",
    "We want to build a matrix of values, like a multiplication table. The output we want in this case should be a list of lists, like:\n",
    "\n",
    " [[1, 2, 3], [2, 4, 6], [3, 6, 9]]"
   ]
  },
  {
   "cell_type": "code",
   "execution_count": 17,
   "metadata": {},
   "outputs": [
    {
     "name": "stdout",
     "output_type": "stream",
     "text": [
      "[[1, 2, 3], [4, 5, 6], [7, 8, 9]]\n"
     ]
    }
   ],
   "source": [
    "list1 = [1, 2, 3, 4, 5, 6, 7, 8, 9]\n",
    "matrix = np.array(list1).reshape(3,3)\n",
    "matrix = matrix.tolist()\n",
    "print(matrix)"
   ]
  },
  {
   "cell_type": "markdown",
   "metadata": {},
   "source": [
    "### Day 10\n",
    "\n",
    "The aim of this challenge is, given a dictionary of people's online status, to count the number of people who are online.\n",
    "\n",
    "For example, consider the following dictionary:\n",
    "\n",
    "statuses = {\n",
    "    \"Alice\": \"online\",\n",
    "    \"Bob\": \"offline\",\n",
    "    \"Eve\": \"online\",\n",
    "}\n",
    "\n",
    "\n",
    "In this case, the number of people online is 2.\n",
    "\n",
    "Write a function named online_count that takes one parameter. The parameter is a dictionary that maps from strings of names to the string \"online\" or \"offline\", as seen above.\n",
    "\n",
    "Your function should return the number of people who are online."
   ]
  },
  {
   "cell_type": "code",
   "execution_count": 17,
   "metadata": {},
   "outputs": [],
   "source": [
    "def online_count(status):\n",
    "    counter=0\n",
    "    for s in status.values():\n",
    "        if s== \"online\":\n",
    "            counter +=1\n",
    "    return counter"
   ]
  },
  {
   "cell_type": "code",
   "execution_count": 14,
   "metadata": {},
   "outputs": [
    {
     "data": {
      "text/plain": [
       "2"
      ]
     },
     "execution_count": 14,
     "metadata": {},
     "output_type": "execute_result"
    }
   ],
   "source": [
    "statuses = { \"Alice\": \"online\", \"Bob\": \"offline\", \"Eve\": \"online\" }\n",
    "\n",
    "online_count(statuses)"
   ]
  },
  {
   "cell_type": "code",
   "execution_count": 16,
   "metadata": {},
   "outputs": [],
   "source": [
    "def online_count2(status):\n",
    "    return sum(s == 'online' for s in status.values())\n"
   ]
  },
  {
   "cell_type": "code",
   "execution_count": 18,
   "metadata": {},
   "outputs": [
    {
     "data": {
      "text/plain": [
       "2"
      ]
     },
     "execution_count": 18,
     "metadata": {},
     "output_type": "execute_result"
    }
   ],
   "source": [
    "online_count2(statuses)"
   ]
  },
  {
   "cell_type": "markdown",
   "metadata": {},
   "source": [
    "### Day 11\n",
    "\n",
    "Double letters:\n",
    "The goal of this challenge is to analyze a string to check if it contains two of the same letter in a row. For example, the string \"hello\" has l twice in a row, while the string \"nono\" does not have two identical letters in a row.\n",
    "\n",
    "Define a function named double_letters that takes a single parameter. The parameter is a string. Your function must return True if there are two identical letters in a row in the string, and False otherwise.\n",
    "\n",
    "Takken from: [Python Challanges](https://pythonprinciples.com/challenges/)"
   ]
  },
  {
   "cell_type": "code",
   "execution_count": 15,
   "metadata": {},
   "outputs": [],
   "source": [
    "def double_letters(word):\n",
    "    for w in range(len(word)-1):\n",
    "        if word[w] == word[w+1]:\n",
    "            return True\n",
    "    \n",
    "    return False"
   ]
  },
  {
   "cell_type": "code",
   "execution_count": 16,
   "metadata": {},
   "outputs": [
    {
     "data": {
      "text/plain": [
       "True"
      ]
     },
     "execution_count": 16,
     "metadata": {},
     "output_type": "execute_result"
    }
   ],
   "source": [
    "double_letters(\"hello\")"
   ]
  },
  {
   "cell_type": "code",
   "execution_count": 17,
   "metadata": {},
   "outputs": [
    {
     "data": {
      "text/plain": [
       "False"
      ]
     },
     "execution_count": 17,
     "metadata": {},
     "output_type": "execute_result"
    }
   ],
   "source": [
    "double_letters(\"Yesitworked!\")"
   ]
  },
  {
   "cell_type": "markdown",
   "metadata": {},
   "source": [
    "### Day 12\n",
    "\n",
    "Counting syllables\n",
    "Define a function named count that takes a single parameter. The parameter is a string. The string will contain a single word divided into syllables by hyphens, such as these:\n",
    "\n",
    "\"ho-tel\"\n",
    "\"cat\"\n",
    "\"met-a-phor\"\n",
    "\"ter-min-a-tor\"\n",
    "Your function should count the number of syllables and return it.\n",
    "\n",
    "For example, the call count(\"ho-tel\") should return 2."
   ]
  },
  {
   "cell_type": "code",
   "execution_count": 23,
   "metadata": {},
   "outputs": [],
   "source": [
    "def syllable_counter(word):\n",
    "    h=1\n",
    "    for hyphen in range(len(word)-1):\n",
    "        if word[hyphen] == \"-\":\n",
    "            h +=1\n",
    "    return h\n"
   ]
  },
  {
   "cell_type": "code",
   "execution_count": 24,
   "metadata": {},
   "outputs": [],
   "source": [
    "w=\"ter-min-a-tor\""
   ]
  },
  {
   "cell_type": "code",
   "execution_count": 25,
   "metadata": {},
   "outputs": [
    {
     "data": {
      "text/plain": [
       "4"
      ]
     },
     "execution_count": 25,
     "metadata": {},
     "output_type": "execute_result"
    }
   ],
   "source": [
    "syllable_counter(w)"
   ]
  },
  {
   "cell_type": "markdown",
   "metadata": {},
   "source": [
    "### Day 14\n",
    "\n",
    "\n",
    "Min-maxing:\n",
    "\n",
    "\n",
    "Define a function named largest_difference that takes a list of numbers as its only parameter.\n",
    "\n",
    "Your function should compute and return the difference between the largest and smallest number in the list.\n",
    "\n",
    "For example, the call largest_difference([1, 2, 3]) should return 2 because 3 - 1 is 2.\n",
    "\n",
    "You may assume that no numbers are smaller or larger than -100 and 100."
   ]
  },
  {
   "cell_type": "code",
   "execution_count": 26,
   "metadata": {},
   "outputs": [],
   "source": [
    "def largest_difference(numbers):\n",
    "    for n in numbers:\n",
    "        maximum= max(numbers)\n",
    "        minimum= min(numbers)\n",
    "        return maximum-minimum"
   ]
  },
  {
   "cell_type": "code",
   "execution_count": 27,
   "metadata": {},
   "outputs": [
    {
     "data": {
      "text/plain": [
       "2"
      ]
     },
     "execution_count": 27,
     "metadata": {},
     "output_type": "execute_result"
    }
   ],
   "source": [
    "numbs= ([1, 2, 3])\n",
    "largest_difference(numbs)"
   ]
  },
  {
   "cell_type": "markdown",
   "metadata": {},
   "source": [
    "## Week 3"
   ]
  },
  {
   "cell_type": "markdown",
   "metadata": {},
   "source": [
    "After a week off for my winter break, I thought it might be good to jump back in with some basic data cleaning and visualization.  While the daily challanges have kept me engaged, I'm looking forward to reviewing some of the analytical skills and statistical knowledge of a slightly larger project.  \n",
    "\n",
    "For the next month or so I'll be working on a competition dataset hosted by Kaggle.  The goal is to predict the quality of a writing sample based on the keyboard input.  Although the competition will be over in a couple of days, as a former teacher it's of personal interest to me, and seems like a fun project to tackle.  The data is comprised about 5000 logs of user inputs, such as keystrokes and mouse clicks, taken during the composition of an essay. Each essay was scored on a scale of 0 to 6. \n",
    "\n",
    "You can find more information about the competition dataset on [Kaggle](https://www.kaggle.com/competitions/linking-writing-processes-to-writing-quality/data)\n",
    "\n",
    "__File and Field Information__\n",
    "\n",
    "<u>train_logs.csv:</u> Input logs to be used as training data. To prevent reproduction of the essay text, all alphanumeric character inputs have been replaced with the \"anonymous\" character q; punctuation and other special characters have not been anonymized.\n",
    "\n",
    "_id_ - The unique ID of the essay\n",
    "\n",
    "_event_id_ - The index of the event, ordered chronologically\n",
    "\n",
    "_down_time_ - The time of the down event in milliseconds\n",
    "\n",
    "_up_time_ - The time of the up event in milliseconds\n",
    "\n",
    "_action_time_ - The duration of the event (the difference between down_time and up_time)\n",
    "\n",
    "_activity_ - The category of activity which the event belongs to\n",
    "\n",
    "_Nonproduction_ - The event does not alter the text in any way\n",
    "\n",
    "_Input_ - The event adds text to the essay\n",
    "\n",
    "_Remove/Cut_ - The event removes text from the essay\n",
    "\n",
    "_Paste_ - The event changes the text through a paste input\n",
    "\n",
    "_Replace_ - The event replaces a section of text with another string\n",
    "Move From [x1, y1] To [x2, y2] - The event moves a section of text spanning character index x1, y1 to a new location x2, y2\n",
    "\n",
    "_down_event_ - The name of the event when the key/mouse is pressed\n",
    "\n",
    "_up_event_ - The name of the event when the key/mouse is released\n",
    "\n",
    "_text_change_ - The text that changed as a result of the event (if any)\n",
    "\n",
    "_cursor_position_ - The character index of the text cursor after the event\n",
    "\n",
    "_word_count_ - The word count of the essay after the event\n",
    "\n",
    "\n",
    "Note that there may be events in the test set that do not occur in the training set. Your solution should be robust to unseen events."
   ]
  },
  {
   "cell_type": "markdown",
   "metadata": {},
   "source": [
    "We'll begin by importing our files and doing some preliminary investigation.  \n"
   ]
  },
  {
   "cell_type": "code",
   "execution_count": 3,
   "metadata": {},
   "outputs": [],
   "source": [
    "y = pd.read_csv('Files/train_scores.csv')"
   ]
  },
  {
   "cell_type": "code",
   "execution_count": 11,
   "metadata": {},
   "outputs": [
    {
     "data": {
      "text/html": [
       "<div>\n",
       "<style scoped>\n",
       "    .dataframe tbody tr th:only-of-type {\n",
       "        vertical-align: middle;\n",
       "    }\n",
       "\n",
       "    .dataframe tbody tr th {\n",
       "        vertical-align: top;\n",
       "    }\n",
       "\n",
       "    .dataframe thead th {\n",
       "        text-align: right;\n",
       "    }\n",
       "</style>\n",
       "<table border=\"1\" class=\"dataframe\">\n",
       "  <thead>\n",
       "    <tr style=\"text-align: right;\">\n",
       "      <th></th>\n",
       "      <th>id</th>\n",
       "      <th>score</th>\n",
       "    </tr>\n",
       "  </thead>\n",
       "  <tbody>\n",
       "    <tr>\n",
       "      <th>0</th>\n",
       "      <td>001519c8</td>\n",
       "      <td>3.5</td>\n",
       "    </tr>\n",
       "    <tr>\n",
       "      <th>1</th>\n",
       "      <td>0022f953</td>\n",
       "      <td>3.5</td>\n",
       "    </tr>\n",
       "    <tr>\n",
       "      <th>2</th>\n",
       "      <td>0042269b</td>\n",
       "      <td>6.0</td>\n",
       "    </tr>\n",
       "    <tr>\n",
       "      <th>3</th>\n",
       "      <td>0059420b</td>\n",
       "      <td>2.0</td>\n",
       "    </tr>\n",
       "    <tr>\n",
       "      <th>4</th>\n",
       "      <td>0075873a</td>\n",
       "      <td>4.0</td>\n",
       "    </tr>\n",
       "  </tbody>\n",
       "</table>\n",
       "</div>"
      ],
      "text/plain": [
       "         id  score\n",
       "0  001519c8    3.5\n",
       "1  0022f953    3.5\n",
       "2  0042269b    6.0\n",
       "3  0059420b    2.0\n",
       "4  0075873a    4.0"
      ]
     },
     "execution_count": 11,
     "metadata": {},
     "output_type": "execute_result"
    }
   ],
   "source": [
    "y.head()"
   ]
  },
  {
   "cell_type": "code",
   "execution_count": 4,
   "metadata": {},
   "outputs": [],
   "source": [
    "X = pd.read_csv('Files/train_logs.csv')"
   ]
  },
  {
   "cell_type": "code",
   "execution_count": 8,
   "metadata": {},
   "outputs": [
    {
     "data": {
      "text/html": [
       "<div>\n",
       "<style scoped>\n",
       "    .dataframe tbody tr th:only-of-type {\n",
       "        vertical-align: middle;\n",
       "    }\n",
       "\n",
       "    .dataframe tbody tr th {\n",
       "        vertical-align: top;\n",
       "    }\n",
       "\n",
       "    .dataframe thead th {\n",
       "        text-align: right;\n",
       "    }\n",
       "</style>\n",
       "<table border=\"1\" class=\"dataframe\">\n",
       "  <thead>\n",
       "    <tr style=\"text-align: right;\">\n",
       "      <th></th>\n",
       "      <th>id</th>\n",
       "      <th>event_id</th>\n",
       "      <th>down_time</th>\n",
       "      <th>up_time</th>\n",
       "      <th>action_time</th>\n",
       "      <th>activity</th>\n",
       "      <th>down_event</th>\n",
       "      <th>up_event</th>\n",
       "      <th>text_change</th>\n",
       "      <th>cursor_position</th>\n",
       "      <th>word_count</th>\n",
       "    </tr>\n",
       "  </thead>\n",
       "  <tbody>\n",
       "    <tr>\n",
       "      <th>0</th>\n",
       "      <td>001519c8</td>\n",
       "      <td>1</td>\n",
       "      <td>4526</td>\n",
       "      <td>4557</td>\n",
       "      <td>31</td>\n",
       "      <td>Nonproduction</td>\n",
       "      <td>Leftclick</td>\n",
       "      <td>Leftclick</td>\n",
       "      <td>NoChange</td>\n",
       "      <td>0</td>\n",
       "      <td>0</td>\n",
       "    </tr>\n",
       "    <tr>\n",
       "      <th>1</th>\n",
       "      <td>001519c8</td>\n",
       "      <td>2</td>\n",
       "      <td>4558</td>\n",
       "      <td>4962</td>\n",
       "      <td>404</td>\n",
       "      <td>Nonproduction</td>\n",
       "      <td>Leftclick</td>\n",
       "      <td>Leftclick</td>\n",
       "      <td>NoChange</td>\n",
       "      <td>0</td>\n",
       "      <td>0</td>\n",
       "    </tr>\n",
       "    <tr>\n",
       "      <th>2</th>\n",
       "      <td>001519c8</td>\n",
       "      <td>3</td>\n",
       "      <td>106571</td>\n",
       "      <td>106571</td>\n",
       "      <td>0</td>\n",
       "      <td>Nonproduction</td>\n",
       "      <td>Shift</td>\n",
       "      <td>Shift</td>\n",
       "      <td>NoChange</td>\n",
       "      <td>0</td>\n",
       "      <td>0</td>\n",
       "    </tr>\n",
       "    <tr>\n",
       "      <th>3</th>\n",
       "      <td>001519c8</td>\n",
       "      <td>4</td>\n",
       "      <td>106686</td>\n",
       "      <td>106777</td>\n",
       "      <td>91</td>\n",
       "      <td>Input</td>\n",
       "      <td>q</td>\n",
       "      <td>q</td>\n",
       "      <td>q</td>\n",
       "      <td>1</td>\n",
       "      <td>1</td>\n",
       "    </tr>\n",
       "    <tr>\n",
       "      <th>4</th>\n",
       "      <td>001519c8</td>\n",
       "      <td>5</td>\n",
       "      <td>107196</td>\n",
       "      <td>107323</td>\n",
       "      <td>127</td>\n",
       "      <td>Input</td>\n",
       "      <td>q</td>\n",
       "      <td>q</td>\n",
       "      <td>q</td>\n",
       "      <td>2</td>\n",
       "      <td>1</td>\n",
       "    </tr>\n",
       "    <tr>\n",
       "      <th>5</th>\n",
       "      <td>001519c8</td>\n",
       "      <td>6</td>\n",
       "      <td>107296</td>\n",
       "      <td>107400</td>\n",
       "      <td>104</td>\n",
       "      <td>Input</td>\n",
       "      <td>q</td>\n",
       "      <td>q</td>\n",
       "      <td>q</td>\n",
       "      <td>3</td>\n",
       "      <td>1</td>\n",
       "    </tr>\n",
       "    <tr>\n",
       "      <th>6</th>\n",
       "      <td>001519c8</td>\n",
       "      <td>7</td>\n",
       "      <td>107469</td>\n",
       "      <td>107596</td>\n",
       "      <td>127</td>\n",
       "      <td>Input</td>\n",
       "      <td>q</td>\n",
       "      <td>q</td>\n",
       "      <td>q</td>\n",
       "      <td>4</td>\n",
       "      <td>1</td>\n",
       "    </tr>\n",
       "    <tr>\n",
       "      <th>7</th>\n",
       "      <td>001519c8</td>\n",
       "      <td>8</td>\n",
       "      <td>107659</td>\n",
       "      <td>107766</td>\n",
       "      <td>107</td>\n",
       "      <td>Input</td>\n",
       "      <td>q</td>\n",
       "      <td>q</td>\n",
       "      <td>q</td>\n",
       "      <td>5</td>\n",
       "      <td>1</td>\n",
       "    </tr>\n",
       "    <tr>\n",
       "      <th>8</th>\n",
       "      <td>001519c8</td>\n",
       "      <td>9</td>\n",
       "      <td>107743</td>\n",
       "      <td>107852</td>\n",
       "      <td>109</td>\n",
       "      <td>Input</td>\n",
       "      <td>q</td>\n",
       "      <td>q</td>\n",
       "      <td>q</td>\n",
       "      <td>6</td>\n",
       "      <td>1</td>\n",
       "    </tr>\n",
       "    <tr>\n",
       "      <th>9</th>\n",
       "      <td>001519c8</td>\n",
       "      <td>10</td>\n",
       "      <td>107840</td>\n",
       "      <td>107978</td>\n",
       "      <td>138</td>\n",
       "      <td>Input</td>\n",
       "      <td>Space</td>\n",
       "      <td>Space</td>\n",
       "      <td></td>\n",
       "      <td>7</td>\n",
       "      <td>1</td>\n",
       "    </tr>\n",
       "    <tr>\n",
       "      <th>10</th>\n",
       "      <td>001519c8</td>\n",
       "      <td>11</td>\n",
       "      <td>108008</td>\n",
       "      <td>108195</td>\n",
       "      <td>187</td>\n",
       "      <td>Input</td>\n",
       "      <td>q</td>\n",
       "      <td>q</td>\n",
       "      <td>q</td>\n",
       "      <td>8</td>\n",
       "      <td>2</td>\n",
       "    </tr>\n",
       "    <tr>\n",
       "      <th>11</th>\n",
       "      <td>001519c8</td>\n",
       "      <td>12</td>\n",
       "      <td>108104</td>\n",
       "      <td>108259</td>\n",
       "      <td>155</td>\n",
       "      <td>Input</td>\n",
       "      <td>q</td>\n",
       "      <td>q</td>\n",
       "      <td>q</td>\n",
       "      <td>9</td>\n",
       "      <td>2</td>\n",
       "    </tr>\n",
       "    <tr>\n",
       "      <th>12</th>\n",
       "      <td>001519c8</td>\n",
       "      <td>13</td>\n",
       "      <td>108229</td>\n",
       "      <td>108370</td>\n",
       "      <td>141</td>\n",
       "      <td>Input</td>\n",
       "      <td>q</td>\n",
       "      <td>q</td>\n",
       "      <td>q</td>\n",
       "      <td>10</td>\n",
       "      <td>2</td>\n",
       "    </tr>\n",
       "    <tr>\n",
       "      <th>13</th>\n",
       "      <td>001519c8</td>\n",
       "      <td>14</td>\n",
       "      <td>108341</td>\n",
       "      <td>108486</td>\n",
       "      <td>145</td>\n",
       "      <td>Input</td>\n",
       "      <td>Space</td>\n",
       "      <td>Space</td>\n",
       "      <td></td>\n",
       "      <td>11</td>\n",
       "      <td>2</td>\n",
       "    </tr>\n",
       "    <tr>\n",
       "      <th>14</th>\n",
       "      <td>001519c8</td>\n",
       "      <td>15</td>\n",
       "      <td>109296</td>\n",
       "      <td>109438</td>\n",
       "      <td>142</td>\n",
       "      <td>Input</td>\n",
       "      <td>q</td>\n",
       "      <td>q</td>\n",
       "      <td>q</td>\n",
       "      <td>12</td>\n",
       "      <td>3</td>\n",
       "    </tr>\n",
       "    <tr>\n",
       "      <th>15</th>\n",
       "      <td>001519c8</td>\n",
       "      <td>16</td>\n",
       "      <td>109423</td>\n",
       "      <td>109559</td>\n",
       "      <td>136</td>\n",
       "      <td>Input</td>\n",
       "      <td>q</td>\n",
       "      <td>q</td>\n",
       "      <td>q</td>\n",
       "      <td>13</td>\n",
       "      <td>3</td>\n",
       "    </tr>\n",
       "    <tr>\n",
       "      <th>16</th>\n",
       "      <td>001519c8</td>\n",
       "      <td>17</td>\n",
       "      <td>109560</td>\n",
       "      <td>109729</td>\n",
       "      <td>169</td>\n",
       "      <td>Input</td>\n",
       "      <td>q</td>\n",
       "      <td>q</td>\n",
       "      <td>q</td>\n",
       "      <td>14</td>\n",
       "      <td>3</td>\n",
       "    </tr>\n",
       "    <tr>\n",
       "      <th>17</th>\n",
       "      <td>001519c8</td>\n",
       "      <td>18</td>\n",
       "      <td>109826</td>\n",
       "      <td>109994</td>\n",
       "      <td>168</td>\n",
       "      <td>Input</td>\n",
       "      <td>q</td>\n",
       "      <td>q</td>\n",
       "      <td>q</td>\n",
       "      <td>15</td>\n",
       "      <td>3</td>\n",
       "    </tr>\n",
       "    <tr>\n",
       "      <th>18</th>\n",
       "      <td>001519c8</td>\n",
       "      <td>19</td>\n",
       "      <td>110398</td>\n",
       "      <td>110516</td>\n",
       "      <td>118</td>\n",
       "      <td>Remove/Cut</td>\n",
       "      <td>Backspace</td>\n",
       "      <td>Backspace</td>\n",
       "      <td>q</td>\n",
       "      <td>14</td>\n",
       "      <td>3</td>\n",
       "    </tr>\n",
       "    <tr>\n",
       "      <th>19</th>\n",
       "      <td>001519c8</td>\n",
       "      <td>20</td>\n",
       "      <td>110595</td>\n",
       "      <td>110751</td>\n",
       "      <td>156</td>\n",
       "      <td>Input</td>\n",
       "      <td>q</td>\n",
       "      <td>q</td>\n",
       "      <td>q</td>\n",
       "      <td>15</td>\n",
       "      <td>3</td>\n",
       "    </tr>\n",
       "  </tbody>\n",
       "</table>\n",
       "</div>"
      ],
      "text/plain": [
       "          id  event_id  down_time  up_time  action_time       activity  \\\n",
       "0   001519c8         1       4526     4557           31  Nonproduction   \n",
       "1   001519c8         2       4558     4962          404  Nonproduction   \n",
       "2   001519c8         3     106571   106571            0  Nonproduction   \n",
       "3   001519c8         4     106686   106777           91          Input   \n",
       "4   001519c8         5     107196   107323          127          Input   \n",
       "5   001519c8         6     107296   107400          104          Input   \n",
       "6   001519c8         7     107469   107596          127          Input   \n",
       "7   001519c8         8     107659   107766          107          Input   \n",
       "8   001519c8         9     107743   107852          109          Input   \n",
       "9   001519c8        10     107840   107978          138          Input   \n",
       "10  001519c8        11     108008   108195          187          Input   \n",
       "11  001519c8        12     108104   108259          155          Input   \n",
       "12  001519c8        13     108229   108370          141          Input   \n",
       "13  001519c8        14     108341   108486          145          Input   \n",
       "14  001519c8        15     109296   109438          142          Input   \n",
       "15  001519c8        16     109423   109559          136          Input   \n",
       "16  001519c8        17     109560   109729          169          Input   \n",
       "17  001519c8        18     109826   109994          168          Input   \n",
       "18  001519c8        19     110398   110516          118     Remove/Cut   \n",
       "19  001519c8        20     110595   110751          156          Input   \n",
       "\n",
       "   down_event   up_event text_change  cursor_position  word_count  \n",
       "0   Leftclick  Leftclick    NoChange                0           0  \n",
       "1   Leftclick  Leftclick    NoChange                0           0  \n",
       "2       Shift      Shift    NoChange                0           0  \n",
       "3           q          q           q                1           1  \n",
       "4           q          q           q                2           1  \n",
       "5           q          q           q                3           1  \n",
       "6           q          q           q                4           1  \n",
       "7           q          q           q                5           1  \n",
       "8           q          q           q                6           1  \n",
       "9       Space      Space                            7           1  \n",
       "10          q          q           q                8           2  \n",
       "11          q          q           q                9           2  \n",
       "12          q          q           q               10           2  \n",
       "13      Space      Space                           11           2  \n",
       "14          q          q           q               12           3  \n",
       "15          q          q           q               13           3  \n",
       "16          q          q           q               14           3  \n",
       "17          q          q           q               15           3  \n",
       "18  Backspace  Backspace           q               14           3  \n",
       "19          q          q           q               15           3  "
      ]
     },
     "execution_count": 8,
     "metadata": {},
     "output_type": "execute_result"
    }
   ],
   "source": [
    "X.head(20)"
   ]
  },
  {
   "cell_type": "code",
   "execution_count": 8,
   "metadata": {},
   "outputs": [
    {
     "data": {
      "text/plain": [
       "8405898"
      ]
     },
     "execution_count": 8,
     "metadata": {},
     "output_type": "execute_result"
    }
   ],
   "source": [
    "len(X)"
   ]
  },
  {
   "cell_type": "code",
   "execution_count": 10,
   "metadata": {},
   "outputs": [
    {
     "data": {
      "text/plain": [
       "2471"
      ]
     },
     "execution_count": 10,
     "metadata": {},
     "output_type": "execute_result"
    }
   ],
   "source": [
    "len(X['id'].unique())"
   ]
  },
  {
   "cell_type": "code",
   "execution_count": 12,
   "metadata": {},
   "outputs": [],
   "source": [
    "train= X.merge(y, on='id', suffixes=(None, None))"
   ]
  },
  {
   "cell_type": "code",
   "execution_count": 14,
   "metadata": {},
   "outputs": [
    {
     "data": {
      "text/html": [
       "<div>\n",
       "<style scoped>\n",
       "    .dataframe tbody tr th:only-of-type {\n",
       "        vertical-align: middle;\n",
       "    }\n",
       "\n",
       "    .dataframe tbody tr th {\n",
       "        vertical-align: top;\n",
       "    }\n",
       "\n",
       "    .dataframe thead th {\n",
       "        text-align: right;\n",
       "    }\n",
       "</style>\n",
       "<table border=\"1\" class=\"dataframe\">\n",
       "  <thead>\n",
       "    <tr style=\"text-align: right;\">\n",
       "      <th></th>\n",
       "      <th>id</th>\n",
       "      <th>event_id</th>\n",
       "      <th>down_time</th>\n",
       "      <th>up_time</th>\n",
       "      <th>action_time</th>\n",
       "      <th>activity</th>\n",
       "      <th>down_event</th>\n",
       "      <th>up_event</th>\n",
       "      <th>text_change</th>\n",
       "      <th>cursor_position</th>\n",
       "      <th>word_count</th>\n",
       "      <th>score</th>\n",
       "    </tr>\n",
       "  </thead>\n",
       "  <tbody>\n",
       "    <tr>\n",
       "      <th>0</th>\n",
       "      <td>001519c8</td>\n",
       "      <td>1</td>\n",
       "      <td>4526</td>\n",
       "      <td>4557</td>\n",
       "      <td>31</td>\n",
       "      <td>Nonproduction</td>\n",
       "      <td>Leftclick</td>\n",
       "      <td>Leftclick</td>\n",
       "      <td>NoChange</td>\n",
       "      <td>0</td>\n",
       "      <td>0</td>\n",
       "      <td>3.5</td>\n",
       "    </tr>\n",
       "    <tr>\n",
       "      <th>1</th>\n",
       "      <td>001519c8</td>\n",
       "      <td>2</td>\n",
       "      <td>4558</td>\n",
       "      <td>4962</td>\n",
       "      <td>404</td>\n",
       "      <td>Nonproduction</td>\n",
       "      <td>Leftclick</td>\n",
       "      <td>Leftclick</td>\n",
       "      <td>NoChange</td>\n",
       "      <td>0</td>\n",
       "      <td>0</td>\n",
       "      <td>3.5</td>\n",
       "    </tr>\n",
       "    <tr>\n",
       "      <th>2</th>\n",
       "      <td>001519c8</td>\n",
       "      <td>3</td>\n",
       "      <td>106571</td>\n",
       "      <td>106571</td>\n",
       "      <td>0</td>\n",
       "      <td>Nonproduction</td>\n",
       "      <td>Shift</td>\n",
       "      <td>Shift</td>\n",
       "      <td>NoChange</td>\n",
       "      <td>0</td>\n",
       "      <td>0</td>\n",
       "      <td>3.5</td>\n",
       "    </tr>\n",
       "    <tr>\n",
       "      <th>3</th>\n",
       "      <td>001519c8</td>\n",
       "      <td>4</td>\n",
       "      <td>106686</td>\n",
       "      <td>106777</td>\n",
       "      <td>91</td>\n",
       "      <td>Input</td>\n",
       "      <td>q</td>\n",
       "      <td>q</td>\n",
       "      <td>q</td>\n",
       "      <td>1</td>\n",
       "      <td>1</td>\n",
       "      <td>3.5</td>\n",
       "    </tr>\n",
       "    <tr>\n",
       "      <th>4</th>\n",
       "      <td>001519c8</td>\n",
       "      <td>5</td>\n",
       "      <td>107196</td>\n",
       "      <td>107323</td>\n",
       "      <td>127</td>\n",
       "      <td>Input</td>\n",
       "      <td>q</td>\n",
       "      <td>q</td>\n",
       "      <td>q</td>\n",
       "      <td>2</td>\n",
       "      <td>1</td>\n",
       "      <td>3.5</td>\n",
       "    </tr>\n",
       "  </tbody>\n",
       "</table>\n",
       "</div>"
      ],
      "text/plain": [
       "         id  event_id  down_time  up_time  action_time       activity  \\\n",
       "0  001519c8         1       4526     4557           31  Nonproduction   \n",
       "1  001519c8         2       4558     4962          404  Nonproduction   \n",
       "2  001519c8         3     106571   106571            0  Nonproduction   \n",
       "3  001519c8         4     106686   106777           91          Input   \n",
       "4  001519c8         5     107196   107323          127          Input   \n",
       "\n",
       "  down_event   up_event text_change  cursor_position  word_count  score  \n",
       "0  Leftclick  Leftclick    NoChange                0           0    3.5  \n",
       "1  Leftclick  Leftclick    NoChange                0           0    3.5  \n",
       "2      Shift      Shift    NoChange                0           0    3.5  \n",
       "3          q          q           q                1           1    3.5  \n",
       "4          q          q           q                2           1    3.5  "
      ]
     },
     "execution_count": 14,
     "metadata": {},
     "output_type": "execute_result"
    }
   ],
   "source": [
    "train.head()"
   ]
  },
  {
   "cell_type": "code",
   "execution_count": 15,
   "metadata": {},
   "outputs": [
    {
     "data": {
      "text/plain": [
       "q             5365319\n",
       "Space         1207128\n",
       "Backspace      964089\n",
       "Shift          334227\n",
       "ArrowRight     121338\n",
       "               ...   \n",
       "I                   1\n",
       "¡                   1\n",
       "C                   1\n",
       "                   1\n",
       "j                   1\n",
       "Name: down_event, Length: 131, dtype: int64"
      ]
     },
     "execution_count": 15,
     "metadata": {},
     "output_type": "execute_result"
    }
   ],
   "source": [
    "train['down_event'].value_counts()"
   ]
  },
  {
   "cell_type": "code",
   "execution_count": 16,
   "metadata": {},
   "outputs": [
    {
     "data": {
      "text/plain": [
       "131"
      ]
     },
     "execution_count": 16,
     "metadata": {},
     "output_type": "execute_result"
    }
   ],
   "source": [
    "len(train['down_event'].unique())"
   ]
  },
  {
   "cell_type": "code",
   "execution_count": null,
   "metadata": {},
   "outputs": [],
   "source": []
  }
 ],
 "metadata": {
  "colab": {
   "provenance": []
  },
  "kernelspec": {
   "display_name": "Python 3",
   "language": "python",
   "name": "python3"
  },
  "language_info": {
   "codemirror_mode": {
    "name": "ipython",
    "version": 3
   },
   "file_extension": ".py",
   "mimetype": "text/x-python",
   "name": "python",
   "nbconvert_exporter": "python",
   "pygments_lexer": "ipython3",
   "version": "3.8.5"
  },
  "toc": {
   "base_numbering": 1,
   "nav_menu": {},
   "number_sections": false,
   "sideBar": true,
   "skip_h1_title": false,
   "title_cell": "Table of Contents",
   "title_sidebar": "Contents",
   "toc_cell": false,
   "toc_position": {},
   "toc_section_display": true,
   "toc_window_display": false
  }
 },
 "nbformat": 4,
 "nbformat_minor": 1
}

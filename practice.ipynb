{
 "cells": [
  {
   "cell_type": "markdown",
   "metadata": {
    "id": "JTug-_o70eFd"
   },
   "source": [
    "# Practice\n",
    "I'll be practicing some basic skills in this document, as a way to improve on the skills I've developed over the last year, and to maintain my fluency with logical thinking and coding in general.  My goal is to work through 2 challange problems a day, starting with some easy for loops and list comprehension."
   ]
  },
  {
   "cell_type": "code",
   "execution_count": 2,
   "metadata": {
    "id": "LPhme_cJ3Aw0"
   },
   "outputs": [],
   "source": [
    "# Import statements\n",
    "import pandas as pd\n",
    "import numpy as np\n",
    "from numpy import random\n",
    "from numpy.random import choice\n",
    "from collections import Counter as count\n",
    "import sqlite3\n",
    "import math"
   ]
  },
  {
   "cell_type": "code",
   "execution_count": null,
   "metadata": {
    "id": "easG28p93AZa"
   },
   "outputs": [],
   "source": [
    "# Day 1\n",
    "# Return all pairs that sum to our target\n",
    "\n",
    "\n",
    "def twoSum(nums, target):\n",
    "  nines=[]\n",
    "  for n in nums:\n",
    "    for self in nums:\n",
    "      if self+n==target:\n",
    "        nines.append(self)\n",
    "        nines.append(n)\n",
    "  return nines\n",
    "\n"
   ]
  },
  {
   "cell_type": "code",
   "execution_count": null,
   "metadata": {
    "colab": {
     "base_uri": "https://localhost:8080/"
    },
    "id": "2X6fMfAj3A_L",
    "outputId": "578d1818-a3a2-4256-dcd7-0de126cd2ee0"
   },
   "outputs": [
    {
     "data": {
      "text/plain": [
       "[7, 2, 2, 7, 0, 9, 9, 0]"
      ]
     },
     "execution_count": 43,
     "metadata": {},
     "output_type": "execute_result"
    }
   ],
   "source": [
    "nums = [2,7,11,15,1,6,9,0]\n",
    "target = 9\n",
    "\n",
    "twoSum(nums, target)"
   ]
  },
  {
   "cell_type": "markdown",
   "metadata": {
    "id": "RwodKjJZskvp"
   },
   "source": [
    "### Day 2:\n",
    "Given a year, return the century it is in. The first century spans from the year 1 up to and including the year 100, the second - from the year 101 up to and including the year 200, etc."
   ]
  },
  {
   "cell_type": "code",
   "execution_count": null,
   "metadata": {
    "colab": {
     "base_uri": "https://localhost:8080/"
    },
    "id": "mlgLto_eslzH",
    "outputId": "84fd420f-a3a2-41c1-97e9-7acd0f9e8937"
   },
   "outputs": [
    {
     "name": "stdout",
     "output_type": "stream",
     "text": [
      "The year 2023 is in the 21 century.\n"
     ]
    }
   ],
   "source": [
    "# Calculate the century by dividing the year by 100 and rounding up\n",
    "\n",
    "def find_century(year):\n",
    "    century = (year - 1) // 100 + 1\n",
    "    return century\n",
    "\n",
    "# Example usage\n",
    "year = 2023\n",
    "result = find_century(year)\n",
    "print(f\"The year {year} is in the {result} century.\")\n"
   ]
  },
  {
   "cell_type": "markdown",
   "metadata": {
    "id": "-NPsD98v37lS"
   },
   "source": [
    "### Day 3\n",
    "Given the string, check if it is a palindrome."
   ]
  },
  {
   "cell_type": "code",
   "execution_count": null,
   "metadata": {
    "colab": {
     "base_uri": "https://localhost:8080/"
    },
    "id": "zafgPGNR3u_0",
    "outputId": "fa06e6cc-c37f-486f-cd8f-8c0b9df1d452"
   },
   "outputs": [
    {
     "name": "stdout",
     "output_type": "stream",
     "text": [
      "True\n"
     ]
    }
   ],
   "source": [
    "def solution(inputString):\n",
    "  if inputString == inputString[::-1]:\n",
    "    return print('True')\n",
    "  else:\n",
    "    return print('False')\n",
    "\n",
    "# Example usage\n",
    "pali = \"aabaa\"\n",
    "result = solution(pali)\n"
   ]
  },
  {
   "cell_type": "markdown",
   "metadata": {
    "id": "nMwc6i3hELRX"
   },
   "source": [
    "## Day 3\n",
    "\n",
    "How would you simulate a loaded die, where 6 comes up 50% of the time and 1-5 comes up 10%?\n",
    "\n",
    "In essence, this question is asking us to show:\n",
    "*Probability = element_weight/ sum of all weights*\n",
    "\n",
    "There are ways to do this manually, as below with Numpy weights, but I'd like to write a function that shows the probability for a list of objects, where one of those objects will come up 50% of the time. so that we can operate with more complex numbers, rather than just showing 6= 0.5, 5= 0.1, 4= 0.1, 3=0.1, 2= 0.1, 1= .1\n",
    "\n"
   ]
  },
  {
   "cell_type": "code",
   "execution_count": null,
   "metadata": {
    "colab": {
     "base_uri": "https://localhost:8080/"
    },
    "id": "5aJksytaQA1w",
    "outputId": "90d2d9d2-94f7-4512-fc23-3e57c5c03558"
   },
   "outputs": [
    {
     "name": "stdout",
     "output_type": "stream",
     "text": [
      "Prob of 6: 0.507\n",
      "Prob of 5: 0.092\n"
     ]
    }
   ],
   "source": [
    "elements = (1,2,3,4,5,6)\n",
    "weights = [0.1, 0.1, 0.1, 0.1, 0.1, 0.5]\n",
    "\n",
    "outcomes = []\n",
    "for i in range(1000):\n",
    "    outcomes.append(choice(elements,\n",
    "                          p=weights,\n",
    "                          replace=True))\n",
    "\n",
    "\n",
    "print(\"Prob of 6:\", outcomes.count(6)/len(outcomes))\n",
    "print(\"Prob of 5:\", outcomes.count(5)/len(outcomes))"
   ]
  },
  {
   "cell_type": "markdown",
   "metadata": {
    "id": "kiz60alJj7rS"
   },
   "source": [
    "## Day 4\n",
    "\n",
    "Given two sorted arrays nums1 and nums2 of size m and n respectively, return the median of the two sorted arrays.\n"
   ]
  },
  {
   "cell_type": "code",
   "execution_count": 2,
   "metadata": {
    "colab": {
     "base_uri": "https://localhost:8080/"
    },
    "id": "lGKhw24kBhSr",
    "outputId": "31ea5c34-10da-41ba-beea-9cf3c08ab61a"
   },
   "outputs": [
    {
     "name": "stdout",
     "output_type": "stream",
     "text": [
      "2\n"
     ]
    }
   ],
   "source": [
    "def findMedianSortedArrays(nums1, nums2):\n",
    "    # Merge the two sorted arrays\n",
    "    merged = sorted(nums1 + nums2)\n",
    "\n",
    "    # Find the length of the merged array\n",
    "    total_length = len(merged)\n",
    "\n",
    "    # Check if the total length is odd or even\n",
    "    if total_length % 2 == 1:\n",
    "        # If odd, return the middle element\n",
    "        return merged[total_length // 2]\n",
    "    else:\n",
    "        # If even, return the average of the two middle elements\n",
    "        mid1 = total_length // 2\n",
    "        mid2 = mid1 - 1\n",
    "        return (merged[mid1] + merged[mid2]) / 2\n",
    "\n",
    "# Example usage:\n",
    "nums1 = [1, 3]\n",
    "nums2 = [2]\n",
    "result = findMedianSortedArrays(nums1, nums2)\n",
    "print(result)\n"
   ]
  },
  {
   "cell_type": "markdown",
   "metadata": {
    "id": "sNnsshK5m4CL"
   },
   "source": [
    "## Day 5\n",
    "What's the probability that two people in a room have the same birthday?\n",
    "\n",
    "Most solutions to this problem involve simulating a bunch a birthdays.  I'd like to see if I can set up function to calcuclate the probability for any number of people first, and then add on a simulator to compare results.\n",
    "\n"
   ]
  },
  {
   "cell_type": "code",
   "execution_count": 3,
   "metadata": {
    "id": "YlBgnndD20CW"
   },
   "outputs": [],
   "source": [
    " def birthday_match(n_people):\n",
    "    factorial=(n_people*(n_people-1))/2\n",
    "    prob=(364/365)**factorial\n",
    "    return prob\n"
   ]
  },
  {
   "cell_type": "code",
   "execution_count": 4,
   "metadata": {
    "id": "cJcXm1YG0dN0"
   },
   "outputs": [
    {
     "data": {
      "text/plain": [
       "0.4995228459634194"
      ]
     },
     "execution_count": 4,
     "metadata": {},
     "output_type": "execute_result"
    }
   ],
   "source": [
    "# should return 4995\n",
    "birthday_match(23)"
   ]
  },
  {
   "cell_type": "code",
   "execution_count": null,
   "metadata": {
    "id": "Np3SNFAJ0dyG"
   },
   "outputs": [],
   "source": []
  }
 ],
 "metadata": {
  "colab": {
   "provenance": []
  },
  "kernelspec": {
   "display_name": "Python 3",
   "language": "python",
   "name": "python3"
  },
  "language_info": {
   "codemirror_mode": {
    "name": "ipython",
    "version": 3
   },
   "file_extension": ".py",
   "mimetype": "text/x-python",
   "name": "python",
   "nbconvert_exporter": "python",
   "pygments_lexer": "ipython3",
   "version": "3.8.5"
  },
  "toc": {
   "base_numbering": 1,
   "nav_menu": {},
   "number_sections": false,
   "sideBar": true,
   "skip_h1_title": false,
   "title_cell": "Table of Contents",
   "title_sidebar": "Contents",
   "toc_cell": false,
   "toc_position": {},
   "toc_section_display": true,
   "toc_window_display": false
  }
 },
 "nbformat": 4,
 "nbformat_minor": 1
}

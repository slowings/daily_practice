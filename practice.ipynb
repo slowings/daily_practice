{
 "cells": [
  {
   "cell_type": "markdown",
   "metadata": {
    "id": "JTug-_o70eFd"
   },
   "source": [
    "# Practice\n",
    "I'll be practicing some basic skills in this document, as a way to improve on the skills I've developed over the last year, and to maintain my fluency with logical thinking and coding in general.  My goal is to work through 2 challange problems a day, starting with some easy for loops and list comprehension."
   ]
  },
  {
   "cell_type": "code",
   "execution_count": 1,
   "metadata": {
    "id": "LPhme_cJ3Aw0"
   },
   "outputs": [],
   "source": [
    "# Import statements\n",
    "import pandas as pd\n",
    "import numpy as np\n"
   ]
  },
  {
   "cell_type": "code",
<<<<<<< HEAD
   "execution_count": null,
=======
   "execution_count": 42,
>>>>>>> 5f09cf55eb9c1caf4d8c1835c986dd5c480e5783
   "metadata": {
    "id": "easG28p93AZa"
   },
   "outputs": [],
   "source": [
    "# Day 1\n",
    "# Return all pairs that sum to our target\n",
    "\n",
    "\n",
    "def twoSum(nums, target):\n",
    "  nines=[]\n",
    "  for n in nums:\n",
    "    for self in nums:\n",
    "      if self+n==target:\n",
    "        nines.append(self)\n",
    "        nines.append(n)\n",
    "  return nines\n",
    "\n"
   ]
  },
  {
   "cell_type": "code",
<<<<<<< HEAD
   "execution_count": null,
=======
   "execution_count": 43,
>>>>>>> 5f09cf55eb9c1caf4d8c1835c986dd5c480e5783
   "metadata": {
    "colab": {
     "base_uri": "https://localhost:8080/"
    },
    "id": "2X6fMfAj3A_L",
    "outputId": "578d1818-a3a2-4256-dcd7-0de126cd2ee0"
   },
   "outputs": [
    {
     "data": {
      "text/plain": [
       "[7, 2, 2, 7, 0, 9, 9, 0]"
      ]
     },
     "execution_count": 43,
     "metadata": {},
     "output_type": "execute_result"
    }
   ],
   "source": [
    "nums = [2,7,11,15,1,6,9,0]\n",
    "target = 9\n",
    "\n",
    "twoSum(nums, target)"
   ]
  },
  {
   "cell_type": "markdown",
   "metadata": {
    "id": "RwodKjJZskvp"
   },
   "source": [
<<<<<<< HEAD
    "Day 2: Given a string s, find the length of the longest substring without repeating character.  we'll need to:\n",
    "identify each character in the substring and its nearest partner.  Substrings without repeating characters will be counted, and that number saved to a list.  If a longer substring emerges, it replaces the saved number."
=======
    "Day 2: Given a string s, find the length of the longest substring without repeating character"
>>>>>>> 5f09cf55eb9c1caf4d8c1835c986dd5c480e5783
   ]
  },
  {
   "cell_type": "code",
<<<<<<< HEAD
   "execution_count": 4,
=======
   "execution_count": null,
>>>>>>> 5f09cf55eb9c1caf4d8c1835c986dd5c480e5783
   "metadata": {
    "id": "mlgLto_eslzH"
   },
   "outputs": [],
   "source": [
<<<<<<< HEAD
    "sentence= \"abcabcbb its utter gibberish can you tell\"\n",
    "\n",
    "def find_length(s):\n",
    "    longest = []\n",
    "    for i in range(len(s)):\n",
    "        for j in range(i, len(s)):\n",
    "            if s[j] not in longest:\n",
    "                longest.append(s[j])\n",
    "            return len(longest)"
=======
    "s= \"abcabcbb its utter gibberish can you tell\"\n",
    "\n",
    "def find_length(s):\n",
    "    longest ="
>>>>>>> 5f09cf55eb9c1caf4d8c1835c986dd5c480e5783
   ]
  },
  {
   "cell_type": "code",
<<<<<<< HEAD
   "execution_count": 5,
   "metadata": {
    "colab": {
     "base_uri": "https://localhost:8080/"
    },
    "id": "Bdbes98qsp1Z",
    "outputId": "d6808ab7-0b05-4897-fcc1-2edf6bbe9e05"
   },
   "outputs": [
    {
     "data": {
      "text/plain": [
       "1"
      ]
     },
     "execution_count": 5,
     "metadata": {},
     "output_type": "execute_result"
    }
   ],
   "source": [
    "find_length(sentence)"
   ]
=======
   "execution_count": null,
   "metadata": {
    "id": "Bdbes98qsp1Z"
   },
   "outputs": [],
   "source": []
>>>>>>> 5f09cf55eb9c1caf4d8c1835c986dd5c480e5783
  },
  {
   "cell_type": "markdown",
   "metadata": {
    "id": "sNnsshK5m4CL"
   },
   "source": [
    "## Navigating Nested Zipped Folders in Python\n",
    "\n",
    "Up until now I've worked almost exclusively with data that had very straightforward access- files were formatted as csv's and were contained withing a simple zip file.  But recently I started a text summarization project with data that has a messy file structure, and I realized that accessing files is a practical skill worth building also.  In this notebook I'll start by working on a code along from Real Python, and using those skills, navigate to the files I'm looking for in the BBC news dataset.  These files are also in .txt form, so we'll need to convert those string as well."
   ]
  },
  {
   "cell_type": "code",
   "execution_count": null,
   "metadata": {
    "id": "cJcXm1YG0dN0"
   },
   "outputs": [],
   "source": []
  },
  {
   "cell_type": "code",
   "execution_count": null,
   "metadata": {
    "id": "Np3SNFAJ0dyG"
   },
   "outputs": [],
   "source": []
  }
 ],
 "metadata": {
  "colab": {
   "provenance": []
  },
  "kernelspec": {
   "display_name": "Python 3",
   "language": "python",
   "name": "python3"
  },
  "language_info": {
   "codemirror_mode": {
    "name": "ipython",
    "version": 3
   },
   "file_extension": ".py",
   "mimetype": "text/x-python",
   "name": "python",
   "nbconvert_exporter": "python",
   "pygments_lexer": "ipython3",
   "version": "3.8.5"
  },
  "toc": {
   "base_numbering": 1,
   "nav_menu": {},
   "number_sections": false,
   "sideBar": true,
   "skip_h1_title": false,
   "title_cell": "Table of Contents",
   "title_sidebar": "Contents",
   "toc_cell": false,
   "toc_position": {},
   "toc_section_display": true,
   "toc_window_display": false
  }
 },
 "nbformat": 4,
 "nbformat_minor": 1
}

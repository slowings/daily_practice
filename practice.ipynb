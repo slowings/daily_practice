{
  "nbformat": 4,
  "nbformat_minor": 0,
  "metadata": {
    "colab": {
      "provenance": []
    },
    "kernelspec": {
      "name": "python3",
      "display_name": "Python 3"
    },
    "language_info": {
      "name": "python"
    }
  },
  "cells": [
    {
      "cell_type": "markdown",
      "source": [
        "# Practice\n",
        "I'll be practicing some basic skills in this document, as a way to improve on the skills I've developed over the last year, and to maintain my fluency with logical thinking and coding in general.  My goal is to work through 2 challange problems a day, starting with some easy for loops and list comprehension."
      ],
      "metadata": {
        "id": "JTug-_o70eFd"
      }
    },
    {
      "cell_type": "code",
      "source": [
        "# Import statements\n",
        "import pandas as pd\n",
        "import numpy as np\n"
      ],
      "metadata": {
        "id": "LPhme_cJ3Aw0"
      },
      "execution_count": 1,
      "outputs": []
    },
    {
      "cell_type": "code",
      "source": [
        "# Day 1\n",
        "# Return all pairs that sum to our target\n",
        "\n",
        "\n",
        "def twoSum(nums, target):\n",
        "  nines=[]\n",
        "  for n in nums:\n",
        "    for self in nums:\n",
        "      if self+n==target:\n",
        "        nines.append(self)\n",
        "        nines.append(n)\n",
        "  return nines\n",
        "\n"
      ],
      "metadata": {
        "id": "easG28p93AZa"
      },
      "execution_count": null,
      "outputs": []
    },
    {
      "cell_type": "code",
      "source": [
        "nums = [2,7,11,15,1,6,9,0]\n",
        "target = 9\n",
        "\n",
        "twoSum(nums, target)"
      ],
      "metadata": {
        "id": "2X6fMfAj3A_L",
        "colab": {
          "base_uri": "https://localhost:8080/"
        },
        "outputId": "578d1818-a3a2-4256-dcd7-0de126cd2ee0"
      },
      "execution_count": null,
      "outputs": [
        {
          "output_type": "execute_result",
          "data": {
            "text/plain": [
              "[7, 2, 2, 7, 0, 9, 9, 0]"
            ]
          },
          "metadata": {},
          "execution_count": 43
        }
      ]
    },
    {
      "cell_type": "markdown",
      "source": [
        "### Day 2:\n",
        "Given a year, return the century it is in. The first century spans from the year 1 up to and including the year 100, the second - from the year 101 up to and including the year 200, etc."
      ],
      "metadata": {
        "id": "RwodKjJZskvp"
      }
    },
    {
      "cell_type": "code",
      "source": [
        "# Calculate the century by dividing the year by 100 and rounding up\n",
        "\n",
        "def find_century(year):\n",
        "    century = (year - 1) // 100 + 1\n",
        "    return century\n",
        "\n",
        "# Example usage\n",
        "year = 2023\n",
        "result = find_century(year)\n",
        "print(f\"The year {year} is in the {result} century.\")\n"
      ],
      "metadata": {
        "id": "mlgLto_eslzH",
        "colab": {
          "base_uri": "https://localhost:8080/"
        },
        "outputId": "84fd420f-a3a2-41c1-97e9-7acd0f9e8937"
      },
      "execution_count": 2,
      "outputs": [
        {
          "output_type": "stream",
          "name": "stdout",
          "text": [
            "The year 2023 is in the 21 century.\n"
          ]
        }
      ]
    },
    {
      "cell_type": "markdown",
      "source": [
        "### Day 3\n",
        "Given the string, check if it is a palindrome."
      ],
      "metadata": {
        "id": "-NPsD98v37lS"
      }
    },
    {
      "cell_type": "code",
      "source": [
        "def solution(inputString):\n",
        "  if inputString == inputString[::-1]:\n",
        "    return print('True')\n",
        "  else:\n",
        "    return print('False')\n",
        "\n",
        "# Example usage\n",
        "pali = \"aabaa\"\n",
        "result = solution(pali)\n"
      ],
      "metadata": {
        "colab": {
          "base_uri": "https://localhost:8080/"
        },
        "id": "zafgPGNR3u_0",
        "outputId": "fa06e6cc-c37f-486f-cd8f-8c0b9df1d452"
      },
      "execution_count": 6,
      "outputs": [
        {
          "output_type": "stream",
          "name": "stdout",
          "text": [
            "True\n"
          ]
        }
      ]
    },
    {
      "cell_type": "code",
      "source": [],
      "metadata": {
        "id": "zShfA3G43not"
      },
      "execution_count": null,
      "outputs": []
    },
    {
      "cell_type": "code",
      "source": [],
      "metadata": {
        "id": "2Z4bi9v33n7Q"
      },
      "execution_count": null,
      "outputs": []
    },
    {
      "cell_type": "code",
      "source": [],
      "metadata": {
        "id": "pyzzHneG3n-7"
      },
      "execution_count": null,
      "outputs": []
    },
    {
      "cell_type": "markdown",
      "source": [
        "## Navigating Nested Zipped Folders in Python\n",
        "\n",
        "Up until now I've worked almost exclusively with data that had very straightforward access- files were formatted as csv's and were contained withing a simple zip file.  But recently I started a text summarization project with data that has a messy file structure, and I realized that accessing files is a practical skill worth building also.  In this notebook I'll start by working on a code along from Real Python, and using those skills, navigate to the files I'm looking for in the BBC news dataset.  These files are also in .txt form, so we'll need to convert those string as well."
      ],
      "metadata": {
        "id": "sNnsshK5m4CL"
      }
    },
    {
      "cell_type": "code",
      "source": [],
      "metadata": {
        "id": "YlBgnndD20CW"
      },
      "execution_count": null,
      "outputs": []
    },
    {
      "cell_type": "code",
      "source": [],
      "metadata": {
        "id": "cJcXm1YG0dN0"
      },
      "execution_count": null,
      "outputs": []
    },
    {
      "cell_type": "code",
      "source": [],
      "metadata": {
        "id": "Np3SNFAJ0dyG"
      },
      "execution_count": null,
      "outputs": []
    }
  ]
}